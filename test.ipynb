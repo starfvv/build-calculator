{
 "cells": [
  {
   "cell_type": "code",
   "execution_count": 1,
   "id": "ac5cf9cd",
   "metadata": {},
   "outputs": [],
   "source": [
    "import matplotlib.font_manager as fm"
   ]
  },
  {
   "cell_type": "code",
   "execution_count": 2,
   "id": "3823e8b7",
   "metadata": {},
   "outputs": [
    {
     "name": "stdout",
     "output_type": "stream",
     "text": [
      "Verdana no está instalada en este sistema\n"
     ]
    }
   ],
   "source": [
    "# Buscar fuentes que tengan 'verdana' en su nombre\n",
    "fuentes = [f for f in fm.findSystemFonts(fontext='ttf') if \"verdana\" in f.lower()]\n",
    "\n",
    "if fuentes:\n",
    "    print(\"Fuentes Verdana encontradas:\", fuentes)\n",
    "else:\n",
    "    print(\"Verdana no está instalada en este sistema\")"
   ]
  },
  {
   "cell_type": "code",
   "execution_count": null,
   "id": "1a88f747",
   "metadata": {},
   "outputs": [],
   "source": []
  }
 ],
 "metadata": {
  "kernelspec": {
   "display_name": "Python 3",
   "language": "python",
   "name": "python3"
  },
  "language_info": {
   "codemirror_mode": {
    "name": "ipython",
    "version": 3
   },
   "file_extension": ".py",
   "mimetype": "text/x-python",
   "name": "python",
   "nbconvert_exporter": "python",
   "pygments_lexer": "ipython3",
   "version": "3.11.13"
  }
 },
 "nbformat": 4,
 "nbformat_minor": 5
}
